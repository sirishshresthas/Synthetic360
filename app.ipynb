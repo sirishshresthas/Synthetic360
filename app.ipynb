{
 "cells": [
  {
   "cell_type": "code",
   "execution_count": null,
   "metadata": {
    "gather": {
     "logged": 1710742565637
    }
   },
   "outputs": [],
   "source": [
    "from src.core import DataProcessor"
   ]
  },
  {
   "cell_type": "code",
   "execution_count": null,
   "metadata": {},
   "outputs": [],
   "source": [
    "results_folder = 'results/demo'\n",
    "corr_name = \"real_data_correlation\"\n",
    "conf_matrix = \"real_data_conf_matrix\"\n",
    "\n",
    "demo_cols = [\"ID\", \"RaterType\", \"Race\", \"Gender\"]\n",
    "\n",
    "# all the items cols\n",
    "items_cols = [\"competency1\", \"competency2\", \"competency3\", \"competency4\", \"competency5\",\n",
    "              \"competency6\", \"competency7\", \"competency8\", \"competency9\", \"competency10\"]"
   ]
  },
  {
   "cell_type": "code",
   "execution_count": null,
   "metadata": {},
   "outputs": [],
   "source": [
    "data_processor = DataProcessor(data=\"data.csv\")\n",
    "\n",
    "data_processor.items_cols = items_cols\n",
    "data_processor.demo_cols = demo_cols"
   ]
  },
  {
   "cell_type": "code",
   "execution_count": null,
   "metadata": {},
   "outputs": [],
   "source": [
    "df = data_processor.get_data()"
   ]
  },
  {
   "cell_type": "code",
   "execution_count": null,
   "metadata": {},
   "outputs": [],
   "source": [
    "data_processor.median_rater_counts()"
   ]
  },
  {
   "cell_type": "code",
   "execution_count": null,
   "metadata": {},
   "outputs": [],
   "source": [
    "data_processor.filter_data_with_all_raters()\n",
    "data_processor.df.shape"
   ]
  },
  {
   "cell_type": "code",
   "execution_count": null,
   "metadata": {},
   "outputs": [],
   "source": [
    "data_processor.df.RaterType.unique()"
   ]
  },
  {
   "cell_type": "code",
   "execution_count": null,
   "metadata": {},
   "outputs": [],
   "source": [
    "data_processor.items_cols"
   ]
  },
  {
   "cell_type": "code",
   "execution_count": null,
   "metadata": {},
   "outputs": [],
   "source": [
    "real_data = data_processor.pivot_rater_data()"
   ]
  },
  {
   "cell_type": "code",
   "execution_count": null,
   "metadata": {},
   "outputs": [],
   "source": [
    "len(real_data.columns)"
   ]
  },
  {
   "cell_type": "code",
   "execution_count": null,
   "metadata": {},
   "outputs": [],
   "source": [
    "import numpy as np\n",
    "replacement_map = {\n",
    "    np.nan: 'Unknown',\n",
    "    r'White|Caucasian': 'Caucasian',\n",
    "    r'African American|Black': 'African American',\n",
    "    r'Asian|Chinese|Filipino|Korean|Vietnamese|Japanese': 'Asian',\n",
    "    r'Asian (Other|Indian)': 'Asian',\n",
    "    r'Hispanic': 'Hispanic',\n",
    "    r'Multiracial': 'Multiracial',\n",
    "    r'American Indian or Alaskan Nat|Indigenous': 'Indigenous',\n",
    "    r'Other \\(please specify\\)|Other': 'Other',\n",
    "    r'Native Hawaiian|Samoan': 'Pacific Islander'\n",
    "}\n",
    "\n",
    "real_data['Race'] = real_data['Race'].replace(replacement_map, regex=True)"
   ]
  },
  {
   "cell_type": "code",
   "execution_count": null,
   "metadata": {},
   "outputs": [],
   "source": [
    "replacement_map = {\n",
    "    np.nan: 'Unknown',\n",
    "    r'UnSpec|NonBin|NotSay|Other': 'Other',\n",
    "    r'Male': 'Male',\n",
    "    r'Female': 'Female'\n",
    "}\n",
    "\n",
    "real_data['Gender'] = real_data['Gender'].replace(replacement_map, regex=True)"
   ]
  },
  {
   "cell_type": "code",
   "execution_count": null,
   "metadata": {},
   "outputs": [],
   "source": [
    "real_data['Race'].value_counts()"
   ]
  },
  {
   "cell_type": "code",
   "execution_count": null,
   "metadata": {},
   "outputs": [],
   "source": [
    "real_data['Gender'].value_counts()"
   ]
  },
  {
   "cell_type": "code",
   "execution_count": null,
   "metadata": {},
   "outputs": [],
   "source": [
    "column_names = [\n",
    "    \"Gender\",\n",
    "    \"Race\",\n",
    "    'competency1',\n",
    "    'competency2',\n",
    "    'competency3',\n",
    "    'competency4',\n",
    "    'competency5',\n",
    "    'competency6',\n",
    "    'competency7',\n",
    "    'competency8',\n",
    "    'competency9',\n",
    "    'competency10',\n",
    "    'competency1_boss',\n",
    "    'competency1_direct_report',\n",
    "    'competency1_peer',\n",
    "    'competency2_boss',\n",
    "    'competency2_direct_report',\n",
    "    'competency2_peer',\n",
    "    'competency3_boss',\n",
    "    'competency3_direct_report',\n",
    "    'competency3_peer',\n",
    "    'competency4_boss',\n",
    "    'competency4_direct_report',\n",
    "    'competency4_peer',\n",
    "    'competency5_boss',\n",
    "    'competency5_direct_report',\n",
    "    'competency5_peer',\n",
    "    'competency6_boss',\n",
    "    'competency6_direct_report',\n",
    "    'competency6_peer',\n",
    "    'competency7_boss',\n",
    "    'competency7_direct_report',\n",
    "    'competency7_peer',\n",
    "    'competency8_boss',\n",
    "    'competency8_direct_report',\n",
    "    'competency8_peer',\n",
    "    'competency9_boss',\n",
    "    'competency9_direct_report',\n",
    "    'competency9_peer',\n",
    "    'competency10_boss',\n",
    "    'competency10_direct_report',\n",
    "    'competency10_peer',\n",
    "]"
   ]
  },
  {
   "cell_type": "code",
   "execution_count": null,
   "metadata": {},
   "outputs": [],
   "source": [
    "len(real_data.columns)"
   ]
  },
  {
   "cell_type": "code",
   "execution_count": null,
   "metadata": {},
   "outputs": [],
   "source": [
    "from src.core import SynthLeader"
   ]
  },
  {
   "cell_type": "code",
   "execution_count": null,
   "metadata": {},
   "outputs": [],
   "source": [
    "synth = SynthLeader(df=real_data, name=\"data\")"
   ]
  },
  {
   "cell_type": "markdown",
   "metadata": {},
   "source": [
    "## Real Dataset"
   ]
  },
  {
   "cell_type": "code",
   "execution_count": null,
   "metadata": {},
   "outputs": [],
   "source": [
    "real_corr = synth.generate_corr_matrix(df=real_data)\n",
    "fig = synth.style_correlation_matrix(real_corr)\n",
    "data_processor.save_data(\n",
    "    fig.to_html(), name=f\"{corr_name}.html\", folder=results_folder)"
   ]
  },
  {
   "cell_type": "code",
   "execution_count": null,
   "metadata": {},
   "outputs": [],
   "source": [
    "%store real_data\n",
    "%store real_corr\n",
    "%store column_names\n",
    "%store synth\n",
    "%store data_processor\n",
    "%store results_folder"
   ]
  },
  {
   "cell_type": "markdown",
   "metadata": {},
   "source": [
    "## Output"
   ]
  },
  {
   "cell_type": "code",
   "execution_count": null,
   "metadata": {},
   "outputs": [],
   "source": [
    "import pandas as pd\n",
    "xtab = pd.crosstab(real_data['Race'], real_data['Gender'])\n",
    "data_processor.save_data(xtab.to_csv(index=True),\n",
    "                         name=f'{conf_matrix}.csv', folder=results_folder)"
   ]
  },
  {
   "cell_type": "code",
   "execution_count": null,
   "metadata": {},
   "outputs": [],
   "source": [
    "data_processor.save_data(real_corr.to_csv(index=False),\n",
    "                         name=f'{corr_name}.csv', folder=results_folder)"
   ]
  }
 ],
 "metadata": {
  "kernel_info": {
   "name": "python3"
  },
  "kernelspec": {
   "display_name": "vsynth",
   "language": "python",
   "name": "python3"
  },
  "language_info": {
   "codemirror_mode": {
    "name": "ipython",
    "version": 3
   },
   "file_extension": ".py",
   "mimetype": "text/x-python",
   "name": "python",
   "nbconvert_exporter": "python",
   "pygments_lexer": "ipython3",
   "version": "3.11.4"
  },
  "microsoft": {
   "ms_spell_check": {
    "ms_spell_check_language": "en"
   }
  },
  "nteract": {
   "version": "nteract-front-end@1.0.0"
  }
 },
 "nbformat": 4,
 "nbformat_minor": 4
}
