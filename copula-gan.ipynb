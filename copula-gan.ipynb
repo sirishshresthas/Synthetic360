{
 "cells": [
  {
   "cell_type": "markdown",
   "id": "ebce3f89-eef5-4fea-9ccb-f232c519eb4e",
   "metadata": {
    "tags": []
   },
   "source": [
    "## Train Copula GAN Synthesizer"
   ]
  },
  {
   "cell_type": "code",
   "execution_count": 1,
   "id": "8d4302d5-7d68-4a83-a1b9-63348bc4bdac",
   "metadata": {},
   "outputs": [],
   "source": [
    "%store -r real_data\n",
    "%store -r real_corr\n",
    "%store -r column_names\n",
    "%store -r synth\n",
    "%store -r data_processor"
   ]
  },
  {
   "cell_type": "code",
   "execution_count": 2,
   "id": "c8ad68fb-f8e8-4828-86a0-83cbed40623b",
   "metadata": {},
   "outputs": [
    {
     "name": "stdout",
     "output_type": "stream",
     "text": [
      "Loading existing model\n"
     ]
    }
   ],
   "source": [
    "copula_gan_synthesizer = synth.train_copula_gan_synthesizer(\n",
    "    model_name='bmk2018_copula_gan.pkl', batch_size=128, epochs=500)"
   ]
  },
  {
   "cell_type": "code",
   "execution_count": 3,
   "id": "17d45520-9c2c-4e3f-8932-32077fca9a72",
   "metadata": {},
   "outputs": [],
   "source": [
    "copula_gan_data = synth.generate_synthetic_sample(\n",
    "    copula_gan_synthesizer, 15000)"
   ]
  },
  {
   "cell_type": "code",
   "execution_count": 5,
   "id": "122643b2-a76b-4713-9cbf-63a8befa7edd",
   "metadata": {},
   "outputs": [],
   "source": [
    "copula_gan_corr = synth.generate_corr_matrix(df=copula_gan_data)\n",
    "synth.style_correlation_matrix(copula_gan_corr)\n",
    "fig = synth.style_correlation_matrix(copula_gan_corr)\n",
    "# data_processor.save_data(fig.to_html(), name=\"copula_gan_corr.html\")"
   ]
  },
  {
   "cell_type": "code",
   "execution_count": null,
   "id": "e2c3615b-fa0e-4135-a12b-59ab1ae7ee8a",
   "metadata": {},
   "outputs": [],
   "source": [
    "copula_corr_diff = real_corr - copula_corr\n",
    "fig = synth.style_correlation_matrix(copula_corr_diff)\n",
    "data_processor.save_data(fig.to_html(), name=\"copula_gan_corr_diff.html\")"
   ]
  },
  {
   "cell_type": "code",
   "execution_count": null,
   "id": "1b2b7eed-8d29-45ba-9c66-a74fec6165fa",
   "metadata": {},
   "outputs": [],
   "source": [
    "corr_name = 'copula_corr'\n",
    "\n",
    "data_processor.save_data(df=copula_corr.to_csv(index=True), name=f'{\n",
    "                         corr_name}.csv', folder=results_folder)\n",
    "data_processor.save_data(df=copula_corr_diff.to_csv(\n",
    "    index=True), name=f'{corr_name}_diff.csv', folder=results_folder)"
   ]
  }
 ],
 "metadata": {
  "kernelspec": {
   "display_name": "Synthetic Data",
   "language": "python",
   "name": "vsynth"
  },
  "language_info": {
   "codemirror_mode": {
    "name": "ipython",
    "version": 3
   },
   "file_extension": ".py",
   "mimetype": "text/x-python",
   "name": "python",
   "nbconvert_exporter": "python",
   "pygments_lexer": "ipython3",
   "version": "3.11.4"
  }
 },
 "nbformat": 4,
 "nbformat_minor": 5
}
